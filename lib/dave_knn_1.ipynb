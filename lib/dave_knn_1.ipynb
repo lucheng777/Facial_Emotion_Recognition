{
 "cells": [
  {
   "cell_type": "code",
   "execution_count": 1,
   "metadata": {},
   "outputs": [],
   "source": [
    "import pandas as pd\n",
    "import numpy as np\n",
    "import os\n",
    "import time\n",
    "import matplotlib.pyplot as plt\n",
    "from sklearn.model_selection import train_test_split\n",
    "from sklearn.preprocessing import StandardScaler\n",
    "from sklearn.metrics import classification_report as cr, confusion_matrix as cm\n",
    "from sklearn.neighbors import KNeighborsClassifier\n",
    "from scipy.io import loadmat\n",
    "from scipy.spatial.distance import pdist"
   ]
  },
  {
   "cell_type": "code",
   "execution_count": 3,
   "metadata": {},
   "outputs": [],
   "source": [
    "path= \"/Users/david/Documents/GitHub/Spring2020-Project3-group2/data/train_set/\"\n",
    "point_path = path+ \"points/\"\n",
    "labels = pd.read_csv(path+\"label.csv\")"
   ]
  },
  {
   "cell_type": "code",
   "execution_count": 5,
   "metadata": {},
   "outputs": [],
   "source": [
    "def point_load(point_path):\n",
    "    point_list = []\n",
    "    for i in sorted(os.listdir(point_path)):\n",
    "        point_list.append(loadmat(os.path.join(point_path ,i)))\n",
    "    \n",
    "    fp_list = []\n",
    "    for i in range(len(point_list)):\n",
    "        if 'faceCoordinatesUnwarped' in point_list[i].keys():\n",
    "            fp_list.append(point_list[i]['faceCoordinatesUnwarped'])\n",
    "        else:\n",
    "            fp_list.append(point_list[i]['faceCoordinates2'])\n",
    "    feature = np.array([pdist(x) for x in fp_list])\n",
    "    return feature"
   ]
  },
  {
   "cell_type": "code",
   "execution_count": 6,
   "metadata": {},
   "outputs": [],
   "source": [
    "X = point_load(point_path)\n",
    "y = labels[\"emotion_idx\"]\n",
    "ss = StandardScaler()\n",
    "X = ss.fit_transform(X)"
   ]
  },
  {
   "cell_type": "code",
   "execution_count": 7,
   "metadata": {},
   "outputs": [],
   "source": [
    "#splitting\n",
    "X_train, X_test, y_train, y_test = train_test_split(X, y, test_size = .2, random_state = 123)"
   ]
  },
  {
   "cell_type": "code",
   "execution_count": 264,
   "metadata": {},
   "outputs": [],
   "source": [
    "# parameter tuning using error rate\n",
    "start = time.time()\n",
    "error_rate = []\n",
    "for i in range(1, 40):\n",
    "    knn = KNeighborsClassifier(n_neighbors=i, metric=\"euclidean\")\n",
    "    knn.fit(X_train, y_train)\n",
    "    pred = knn.predict(X_test)\n",
    "    error_rate.append(np.mean(pred != y_test))\n",
    "final = time.time()- start"
   ]
  },
  {
   "cell_type": "code",
   "execution_count": 265,
   "metadata": {},
   "outputs": [
    {
     "data": {
      "text/plain": [
       "Text(0, 0.5, 'Error Rate')"
      ]
     },
     "execution_count": 265,
     "metadata": {},
     "output_type": "execute_result"
    },
    {
     "data": {
      "image/png": "[encoded data removed]",
      "text/plain": [
       "<Figure size 864x432 with 1 Axes>"
      ]
     },
     "metadata": {
      "needs_background": "light"
     },
     "output_type": "display_data"
    }
   ],
   "source": [
    "plt.figure(figsize=(12,6))\n",
    "plt.plot(range(1,40),error_rate,color='blue', linestyle='dashed', marker='o',\n",
    "         markerfacecolor='red', markersize=10)\n",
    "plt.title('Error Rate ~ K Value')\n",
    "plt.xlabel('K')\n",
    "plt.ylabel('Error Rate')"
   ]
  },
  {
   "cell_type": "code",
   "execution_count": 273,
   "metadata": {},
   "outputs": [
    {
     "name": "stdout",
     "output_type": "stream",
     "text": [
      "Accuracy score: 0.302\n",
      "              precision    recall  f1-score   support\n",
      "\n",
      "           1       0.56      0.15      0.23        68\n",
      "           2       0.68      0.34      0.46        38\n",
      "           3       0.32      0.26      0.29        31\n",
      "           4       0.43      0.27      0.33        33\n",
      "           5       0.50      0.41      0.45        22\n",
      "           6       0.46      0.50      0.48        24\n",
      "           7       0.35      0.37      0.36        19\n",
      "           8       0.75      0.46      0.57        26\n",
      "           9       0.16      0.33      0.22        12\n",
      "          10       0.20      0.31      0.24        13\n",
      "          11       0.29      0.54      0.38        13\n",
      "          12       0.28      0.36      0.32        25\n",
      "          13       0.08      0.09      0.09        22\n",
      "          14       0.70      0.36      0.48        44\n",
      "          15       0.23      0.28      0.25        18\n",
      "          16       0.27      0.60      0.37        10\n",
      "          17       0.12      0.18      0.14        17\n",
      "          18       0.23      0.28      0.25        18\n",
      "          19       0.26      0.26      0.26        23\n",
      "          20       0.10      0.20      0.13        10\n",
      "          21       0.03      0.20      0.05         5\n",
      "          22       0.05      0.11      0.07         9\n",
      "\n",
      "    accuracy                           0.30       500\n",
      "   macro avg       0.32      0.31      0.29       500\n",
      "weighted avg       0.41      0.30      0.32       500\n",
      "\n"
     ]
    }
   ],
   "source": [
    "# train with best parameter (minimum error)\n",
    "\n",
    "k_min = error_rate.index(min(error_rate))\n",
    "knn_min = KNeighborsClassifier(n_neighbors=k_min, metric=\"euclidean\")\n",
    "knn_min.fit(X_train, y_train)\n",
    "\n",
    "# prediction\n",
    "y_pred = knn_min.predict(X_test)\n",
    "\n",
    "# accuracy\n",
    "print(\"Accuracy score:\", accuracy_score(y_test, y_pred))\n",
    "print(cr(y_pred, y_test))"
   ]
  },
  {
   "cell_type": "code",
   "execution_count": 235,
   "metadata": {},
   "outputs": [],
   "source": [
    "# cross val\n",
    "\n",
    "from sklearn.model_selection import cross_val_score as cvs\n",
    "start_cv = time.time()\n",
    "cv_scores = []\n",
    "for i in range(1, 40):\n",
    "    knn = KNeighborsClassifier(n_neighbors=i, metric=\"euclidean\")\n",
    "    scores = cvs(knn, X_train, y_train, cv = 5, scoring=\"accuracy\")\n",
    "    cv_scores.append(scores.mean())\n",
    "final_cv = time.time()- start_cv"
   ]
  },
  {
   "cell_type": "code",
   "execution_count": 236,
   "metadata": {},
   "outputs": [
    {
     "data": {
      "text/plain": [
       "Text(0, 0.5, 'CV Scores')"
      ]
     },
     "execution_count": 236,
     "metadata": {},
     "output_type": "execute_result"
    },
    {
     "data": {
      "image/png": "[encoded data removed]",
      "text/plain": [
       "<Figure size 864x432 with 1 Axes>"
      ]
     },
     "metadata": {
      "needs_background": "light"
     },
     "output_type": "display_data"
    }
   ],
   "source": [
    "plt.figure(figsize=(12,6))\n",
    "plt.plot(range(1,40),cv_scores,color='blue', linestyle='dashed', marker='o',\n",
    "         markerfacecolor='red', markersize=10)\n",
    "plt.title('CV Scores ~ K Value')\n",
    "plt.xlabel('K')\n",
    "plt.ylabel('CV Scores')"
   ]
  },
  {
   "cell_type": "code",
   "execution_count": 237,
   "metadata": {},
   "outputs": [
    {
     "data": {
      "text/plain": [
       "KNeighborsClassifier(algorithm='auto', leaf_size=30, metric='minkowski',\n",
       "                     metric_params=None, n_jobs=None, n_neighbors=24, p=2,\n",
       "                     weights='uniform')"
      ]
     },
     "execution_count": 237,
     "metadata": {},
     "output_type": "execute_result"
    }
   ],
   "source": [
    "from sklearn.metrics import accuracy_score\n",
    "\n",
    "k_opt = cv_scores.index(max(cv_scores))\n",
    "knn_opt = KNeighborsClassifier(n_neighbors=k_opt)\n",
    "knn_opt.fit(X_train, y_train)"
   ]
  },
  {
   "cell_type": "code",
   "execution_count": 238,
   "metadata": {},
   "outputs": [
    {
     "name": "stdout",
     "output_type": "stream",
     "text": [
      "train accuracy:\n",
      "0.41\n"
     ]
    }
   ],
   "source": [
    "# train accuracy\n",
    "train_pred_opt = knn_opt.predict(X_train)\n",
    "print(\"train accuracy:\")\n",
    "print(accuracy_score(y_train, train_pred_opt))"
   ]
  },
  {
   "cell_type": "code",
   "execution_count": 239,
   "metadata": {},
   "outputs": [
    {
     "name": "stdout",
     "output_type": "stream",
     "text": [
      "test accuracy:\n",
      "0.302\n"
     ]
    }
   ],
   "source": [
    "# test accuracy\n",
    "test_pred_opt = knn_opt.predict(X_test)\n",
    "print(\"test accuracy:\")\n",
    "print(accuracy_score(y_test, test_pred_opt))"
   ]
  },
  {
   "cell_type": "code",
   "execution_count": 241,
   "metadata": {},
   "outputs": [],
   "source": [
    "start_0 = time.time()\n",
    "knn_final = KNeighborsClassifier(n_neighbors=k_opt)\n",
    "knn_final.fit(X, y)\n",
    "final_pred = knn_final.predict(X)\n",
    "print(\"Time:\", time.time()-start_0 )"
   ]
  },
  {
   "cell_type": "code",
   "execution_count": 275,
   "metadata": {},
   "outputs": [
    {
     "name": "stdout",
     "output_type": "stream",
     "text": [
      "0.3728\n"
     ]
    }
   ],
   "source": [
    "print(accuracy_score(y, final_pred))"
   ]
  },
  {
   "cell_type": "code",
   "execution_count": 274,
   "metadata": {},
   "outputs": [
    {
     "data": {
      "text/plain": [
       "['knn_final.m']"
      ]
     },
     "execution_count": 274,
     "metadata": {},
     "output_type": "execute_result"
    }
   ],
   "source": [
    "from sklearn.externals import joblib\n",
    "joblib.dump(knn_final,'knn_final.m')"
   ]
  },
  {
   "cell_type": "code",
   "execution_count": null,
   "metadata": {},
   "outputs": [],
   "source": []
  }
 ],
 "metadata": {
  "kernelspec": {
   "display_name": "Python 3",
   "language": "python",
   "name": "python3"
  },
  "language_info": {
   "codemirror_mode": {
    "name": "ipython",
    "version": 3
   },
   "file_extension": ".py",
   "mimetype": "text/x-python",
   "name": "python",
   "nbconvert_exporter": "python",
   "pygments_lexer": "ipython3",
   "version": "3.7.4-final"
  }
 },
 "nbformat": 4,
 "nbformat_minor": 2
}