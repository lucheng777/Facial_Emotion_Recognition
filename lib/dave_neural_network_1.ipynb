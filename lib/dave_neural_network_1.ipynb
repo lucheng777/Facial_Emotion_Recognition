{
 "cells": [
  {
   "cell_type": "code",
   "execution_count": 179,
   "metadata": {},
   "outputs": [],
   "source": [
    "import pandas as pd\n",
    "import numpy as np\n",
    "import os\n",
    "import time\n",
    "import matplotlib.pyplot as plt\n",
    "from sklearn.model_selection import train_test_split\n",
    "from sklearn.preprocessing import StandardScaler\n",
    "from sklearn.metrics import classification_report as cr, confusion_matrix as cm\n",
    "from scipy.io import loadmat\n",
    "from scipy.spatial.distance import pdist"
   ]
  },
  {
   "cell_type": "code",
   "execution_count": 180,
   "metadata": {},
   "outputs": [],
   "source": [
    "path= \"/Users/david/Desktop/AppliedDS/proj3/Spring2020-Project3-group2/data/train_set/\"\n",
    "point_path = path+ \"points/\"\n",
    "labels = pd.read_csv(path+\"label.csv\")"
   ]
  },
  {
   "cell_type": "code",
   "execution_count": 181,
   "metadata": {},
   "outputs": [],
   "source": [
    "def point_load(point_path):\n",
    "    point_list = []\n",
    "    for i in sorted(os.listdir(point_path)):\n",
    "        point_list.append(loadmat(os.path.join(point_path ,i)))\n",
    "    \n",
    "    fp_list = []\n",
    "    for i in range(len(point_list)):\n",
    "        if 'faceCoordinatesUnwarped' in point_list[i].keys():\n",
    "            fp_list.append(point_list[i]['faceCoordinatesUnwarped'])\n",
    "        else:\n",
    "            fp_list.append(point_list[i]['faceCoordinates2'])\n",
    "    feature = np.array([pdist(x) for x in fp_list])\n",
    "    return feature"
   ]
  },
  {
   "cell_type": "code",
   "execution_count": 251,
   "metadata": {},
   "outputs": [],
   "source": [
    "from keras.utils import to_categorical, normalize\n",
    "\n",
    "X = point_load(point_path)\n",
    "y = labels[\"emotion_idx\"]\n",
    "\n",
    "#pca = PCA(n_components=0.99, whiten=True)\n",
    "#X_pca_train = pca.fit_transform(X_train)\n",
    "#X_pca_test = pca.transform(X_test)\n"
   ]
  },
  {
   "cell_type": "code",
   "execution_count": 353,
   "metadata": {},
   "outputs": [
    {
     "data": {
      "text/plain": [
       "(2500, 3003)"
      ]
     },
     "execution_count": 353,
     "metadata": {},
     "output_type": "execute_result"
    }
   ],
   "source": [
    "X.shape"
   ]
  },
  {
   "cell_type": "code",
   "execution_count": 254,
   "metadata": {},
   "outputs": [],
   "source": [
    "\n",
    "ss = StandardScaler()\n",
    "X = ss.fit_transform(X)\n",
    "X_train, X_test, y_train, y_test = train_test_split(X, y-1, test_size = .2, random_state = 123)"
   ]
  },
  {
   "cell_type": "code",
   "execution_count": 414,
   "metadata": {},
   "outputs": [],
   "source": [
    "from keras.models import Sequential\n",
    "from keras.layers import Dense, Dropout, BatchNormalization\n",
    "from keras.regularizers import l1, l2\n",
    "from tensorflow.keras.optimizers import Adam\n",
    "\n",
    "#build layers\n",
    "\n",
    "model = Sequential()\n",
    "model.add(Dense(800,input_dim = 3003, activation=\"relu\",\n",
    "                kernel_initializer = 'glorot_normal', \n",
    "                activity_regularizer=l2(0.001)))\n",
    "model.add(BatchNormalization())\n",
    "model.add(Dropout(.2))\n",
    "model.add(Dense(300, activation=\"relu\",kernel_initializer = 'glorot_normal'))\n",
    "model.add(Dropout(.2))\n",
    "model.add(Dense(100, activation=\"relu\",kernel_initializer = 'glorot_normal'))\n",
    "model.add(Dropout(.2))\n",
    "model.add(Dense(22, activation=\"sigmoid\"))\n",
    "\n"
   ]
  },
  {
   "cell_type": "code",
   "execution_count": 418,
   "metadata": {},
   "outputs": [
    {
     "name": "stdout",
     "output_type": "stream",
     "text": [
      "Train on 2000 samples, validate on 500 samples\n",
      "Epoch 1/40\n",
      "2000/2000 [==============================] - 1s 605us/step - loss: 9.2941 - accuracy: 0.1280 - val_loss: 5.9303 - val_accuracy: 0.2520\n",
      "Epoch 2/40\n",
      "2000/2000 [==============================] - 1s 448us/step - loss: 6.6966 - accuracy: 0.2380 - val_loss: 7.0902 - val_accuracy: 0.2620\n",
      "Epoch 3/40\n",
      "2000/2000 [==============================] - 1s 466us/step - loss: 7.3100 - accuracy: 0.2830 - val_loss: 7.4920 - val_accuracy: 0.3400\n",
      "Epoch 4/40\n",
      "2000/2000 [==============================] - 1s 458us/step - loss: 7.2546 - accuracy: 0.3075 - val_loss: 9.3081 - val_accuracy: 0.3240\n",
      "Epoch 5/40\n",
      "2000/2000 [==============================] - 1s 483us/step - loss: 6.5174 - accuracy: 0.3485 - val_loss: 6.4745 - val_accuracy: 0.3440\n",
      "Epoch 6/40\n",
      "2000/2000 [==============================] - 1s 475us/step - loss: 6.4886 - accuracy: 0.3755 - val_loss: 8.3517 - val_accuracy: 0.3640\n",
      "Epoch 7/40\n",
      "2000/2000 [==============================] - 1s 488us/step - loss: 6.9384 - accuracy: 0.3905 - val_loss: 7.1055 - val_accuracy: 0.3920\n",
      "Epoch 8/40\n",
      "2000/2000 [==============================] - 1s 481us/step - loss: 6.6181 - accuracy: 0.3745 - val_loss: 6.9498 - val_accuracy: 0.3560\n",
      "Epoch 9/40\n",
      "2000/2000 [==============================] - 1s 473us/step - loss: 6.6384 - accuracy: 0.4120 - val_loss: 7.2351 - val_accuracy: 0.3680\n",
      "Epoch 10/40\n",
      "2000/2000 [==============================] - 1s 477us/step - loss: 5.9859 - accuracy: 0.4330 - val_loss: 8.1853 - val_accuracy: 0.3780\n",
      "Epoch 11/40\n",
      "2000/2000 [==============================] - 1s 481us/step - loss: 6.1034 - accuracy: 0.4305 - val_loss: 7.0633 - val_accuracy: 0.3800\n",
      "Epoch 12/40\n",
      "2000/2000 [==============================] - 1s 481us/step - loss: 6.4009 - accuracy: 0.4340 - val_loss: 6.3043 - val_accuracy: 0.3940\n",
      "Epoch 13/40\n",
      "2000/2000 [==============================] - 1s 491us/step - loss: 6.1343 - accuracy: 0.4330 - val_loss: 9.0960 - val_accuracy: 0.3580\n",
      "Epoch 14/40\n",
      "2000/2000 [==============================] - 1s 490us/step - loss: 6.0565 - accuracy: 0.4440 - val_loss: 6.3162 - val_accuracy: 0.4140\n",
      "Epoch 15/40\n",
      "2000/2000 [==============================] - 1s 544us/step - loss: 5.8255 - accuracy: 0.4525 - val_loss: 7.1957 - val_accuracy: 0.3560\n",
      "Epoch 16/40\n",
      "2000/2000 [==============================] - 1s 646us/step - loss: 5.7184 - accuracy: 0.4680 - val_loss: 7.0131 - val_accuracy: 0.4080\n",
      "Epoch 17/40\n",
      "2000/2000 [==============================] - 1s 615us/step - loss: 6.3352 - accuracy: 0.4890 - val_loss: 9.4792 - val_accuracy: 0.3740\n",
      "Epoch 18/40\n",
      "2000/2000 [==============================] - 1s 553us/step - loss: 5.5483 - accuracy: 0.4815 - val_loss: 7.2160 - val_accuracy: 0.4180\n",
      "Epoch 19/40\n",
      "2000/2000 [==============================] - 1s 555us/step - loss: 6.4312 - accuracy: 0.4785 - val_loss: 6.4359 - val_accuracy: 0.4140\n",
      "Epoch 20/40\n",
      "2000/2000 [==============================] - 1s 615us/step - loss: 6.3929 - accuracy: 0.4865 - val_loss: 5.6259 - val_accuracy: 0.4640\n",
      "Epoch 21/40\n",
      "2000/2000 [==============================] - 1s 569us/step - loss: 5.8321 - accuracy: 0.4900 - val_loss: 6.9469 - val_accuracy: 0.4300\n",
      "Epoch 22/40\n",
      "2000/2000 [==============================] - 1s 561us/step - loss: 5.8602 - accuracy: 0.4930 - val_loss: 5.8823 - val_accuracy: 0.4460\n",
      "Epoch 23/40\n",
      "2000/2000 [==============================] - 1s 662us/step - loss: 5.7916 - accuracy: 0.4985 - val_loss: 7.1885 - val_accuracy: 0.4120\n",
      "Epoch 24/40\n",
      "2000/2000 [==============================] - 1s 672us/step - loss: 5.9349 - accuracy: 0.5185 - val_loss: 8.1517 - val_accuracy: 0.4260\n",
      "Epoch 25/40\n",
      "2000/2000 [==============================] - 1s 672us/step - loss: 5.7021 - accuracy: 0.5185 - val_loss: 9.0257 - val_accuracy: 0.4500\n",
      "Epoch 26/40\n",
      "2000/2000 [==============================] - 1s 587us/step - loss: 6.3551 - accuracy: 0.5025 - val_loss: 7.5717 - val_accuracy: 0.3980\n",
      "Epoch 27/40\n",
      "2000/2000 [==============================] - 1s 596us/step - loss: 6.2034 - accuracy: 0.5160 - val_loss: 7.4585 - val_accuracy: 0.3960\n",
      "Epoch 28/40\n",
      "2000/2000 [==============================] - 1s 650us/step - loss: 5.6796 - accuracy: 0.5195 - val_loss: 7.3876 - val_accuracy: 0.4180\n",
      "Epoch 29/40\n",
      "2000/2000 [==============================] - 1s 658us/step - loss: 6.0230 - accuracy: 0.5100 - val_loss: 9.8399 - val_accuracy: 0.3980\n",
      "Epoch 30/40\n",
      "2000/2000 [==============================] - 1s 482us/step - loss: 5.7447 - accuracy: 0.5195 - val_loss: 7.1703 - val_accuracy: 0.3780\n",
      "Epoch 31/40\n",
      "2000/2000 [==============================] - 1s 494us/step - loss: 5.4424 - accuracy: 0.5385 - val_loss: 6.1481 - val_accuracy: 0.3960\n",
      "Epoch 32/40\n",
      "2000/2000 [==============================] - 1s 480us/step - loss: 5.9364 - accuracy: 0.5125 - val_loss: 7.2023 - val_accuracy: 0.4320\n",
      "Epoch 33/40\n",
      "2000/2000 [==============================] - 1s 512us/step - loss: 5.7716 - accuracy: 0.5375 - val_loss: 6.3542 - val_accuracy: 0.4080\n",
      "Epoch 34/40\n",
      "2000/2000 [==============================] - 1s 552us/step - loss: 6.0002 - accuracy: 0.5155 - val_loss: 9.6208 - val_accuracy: 0.4000\n",
      "Epoch 35/40\n",
      "2000/2000 [==============================] - 1s 498us/step - loss: 6.2666 - accuracy: 0.5280 - val_loss: 8.2425 - val_accuracy: 0.4400\n",
      "Epoch 36/40\n",
      "2000/2000 [==============================] - 1s 469us/step - loss: 5.7801 - accuracy: 0.5375 - val_loss: 7.2998 - val_accuracy: 0.4060\n",
      "Epoch 37/40\n",
      "2000/2000 [==============================] - 1s 562us/step - loss: 5.6269 - accuracy: 0.5280 - val_loss: 6.4846 - val_accuracy: 0.3840\n",
      "Epoch 38/40\n",
      "2000/2000 [==============================] - 1s 626us/step - loss: 5.7300 - accuracy: 0.5195 - val_loss: 8.3167 - val_accuracy: 0.3980\n",
      "Epoch 39/40\n",
      "2000/2000 [==============================] - 1s 608us/step - loss: 5.8456 - accuracy: 0.5445 - val_loss: 7.5308 - val_accuracy: 0.3820\n",
      "Epoch 40/40\n",
      "2000/2000 [==============================] - 1s 567us/step - loss: 5.5757 - accuracy: 0.5425 - val_loss: 6.7252 - val_accuracy: 0.4140\n"
     ]
    },
    {
     "data": {
      "text/plain": [
       "<keras.callbacks.callbacks.History at 0x247a99c10>"
      ]
     },
     "execution_count": 418,
     "metadata": {},
     "output_type": "execute_result"
    }
   ],
   "source": [
    "# run model\n",
    "model.compile(loss='sparse_categorical_crossentropy', optimizer=Adam(lr=.001), metrics=['accuracy'])\n",
    "model.fit(X_train, \n",
    "          y_train, \n",
    "          epochs=40, \n",
    "          batch_size = 32,\n",
    "          validation_split=.2, \n",
    "          validation_data = (X_test, y_test))"
   ]
  },
  {
   "cell_type": "code",
   "execution_count": 419,
   "metadata": {},
   "outputs": [
    {
     "name": "stdout",
     "output_type": "stream",
     "text": [
      "Accuracy: 41.40\n"
     ]
    }
   ],
   "source": [
    "_, accuracy = model.evaluate(X_test, y_test, verbose=0)\n",
    "print('Accuracy: %.2f' % (accuracy*100))"
   ]
  },
  {
   "cell_type": "code",
   "execution_count": 413,
   "metadata": {},
   "outputs": [],
   "source": [
    "predictions = model.predict(X_test[:10])"
   ]
  },
  {
   "cell_type": "code",
   "execution_count": 410,
   "metadata": {},
   "outputs": [
    {
     "name": "stdout",
     "output_type": "stream",
     "text": [
      "[ 4 15 21 21  2]\n"
     ]
    }
   ],
   "source": [
    "\n",
    "print(np.argmax(predictions, axis = 1))"
   ]
  },
  {
   "cell_type": "code",
   "execution_count": 412,
   "metadata": {},
   "outputs": [
    {
     "name": "stdout",
     "output_type": "stream",
     "text": [
      "2386    20\n",
      "1298    11\n",
      "1995    17\n",
      "2097    18\n",
      "289      2\n",
      "2380    20\n",
      "2336    20\n",
      "1492    13\n",
      "33       0\n",
      "1970    17\n",
      "Name: emotion_idx, dtype: int64\n"
     ]
    }
   ],
   "source": [
    "print(y_test[:10])"
   ]
  }
 ],
 "metadata": {
  "kernelspec": {
   "display_name": "Python 3",
   "language": "python",
   "name": "python3"
  },
  "language_info": {
   "codemirror_mode": {
    "name": "ipython",
    "version": 3
   },
   "file_extension": ".py",
   "mimetype": "text/x-python",
   "name": "python",
   "nbconvert_exporter": "python",
   "pygments_lexer": "ipython3",
   "version": "3.7.4"
  }
 },
 "nbformat": 4,
 "nbformat_minor": 2
}
