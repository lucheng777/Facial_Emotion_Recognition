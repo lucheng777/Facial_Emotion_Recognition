{
 "cells": [
  {
   "cell_type": "markdown",
   "metadata": {},
   "source": [
    "This file is for parameter tuning for all the models in the main file.\n",
    "Testing accuracy and fit time are tested in the main file.\n",
    "This file is not complete. Add codes to the corresponding model in the main file to see the results.\n",
    "The parameters of the models in the main file are the final parameters."
   ]
  },
  {
   "cell_type": "code",
   "execution_count": null,
   "metadata": {},
   "outputs": [],
   "source": [
    "params = {'n_neighbors':[35,40,45,50,55,60,65]}\n",
    "gscv = GridSearchCV(KNeighborsClassifier(),params,cv=3,\n",
    "                    scoring='roc_auc')\n",
    "gscv.fit(train_x_dis,train_y_dis)\n",
    "scores1 = cross_val_score(gscv.best_estimator_,train_x_dis,train_y_dis,cv=3,\n",
    "                         scoring='roc_auc')\n",
    "scores2 = cross_val_score(gscv.best_estimator_,test_x_dis,test_y_dis,cv=3,\n",
    "                         scoring='roc_auc')"
   ]
  },
  {
   "cell_type": "code",
   "execution_count": null,
   "metadata": {},
   "outputs": [],
   "source": [
    "params = {'n_estimators':[10,20,30,40,50,60,70,80,90,100],\n",
    "         'max_depth':[1,2,3,4]}\n",
    "gscv = GridSearchCV(GradientBoostingClassifier(),params,cv=3,\n",
    "                    scoring='roc_auc')\n",
    "gscv.fit(train_x_dis,train_y_dis)\n",
    "scores1 = cross_val_score(gscv.best_estimator_,train_x_dis,train_y_dis,cv=3,\n",
    "                         scoring='roc_auc')\n",
    "scores2 = cross_val_score(gscv.best_estimator_,test_x_dis,test_y_dis,cv=3,\n",
    "                         scoring='roc_auc')"
   ]
  },
  {
   "cell_type": "code",
   "execution_count": null,
   "metadata": {},
   "outputs": [],
   "source": [
    "params = {'n_estimators':[10,20,30,40,50,60,70,80,90,100],\n",
    "         'max_depth':[1,2,3,4,5]}\n",
    "gscv = GridSearchCV(xgboost.XGBClassifier(),params,cv=3,\n",
    "                    scoring='roc_auc')\n",
    "gscv.fit(train_x_dis,train_y_dis)\n",
    "scores1 = cross_val_score(gscv.best_estimator_,train_x_dis,train_y_dis,cv=3,\n",
    "                         scoring='roc_auc')\n",
    "scores2 = cross_val_score(gscv.best_estimator_,test_x_dis,test_y_dis,cv=3,\n",
    "                         scoring='roc_auc')"
   ]
  },
  {
   "cell_type": "code",
   "execution_count": null,
   "metadata": {},
   "outputs": [],
   "source": [
    "params = {'n_estimators':[10,20,30,40,50,60,70,80,90,100],\n",
    "         'max_depth':[1,,5,10,20,30,40,50],\n",
    "         'max_features':['auto','sqrt','log2']}\n",
    "gscv = GridSearchCV(RandomForestClassifier(),params,cv=3,\n",
    "                    scoring='roc_auc')\n",
    "gscv.fit(train_x_dis,train_y_dis)\n",
    "scores1 = cross_val_score(gscv.best_estimator_,train_x_dis,train_y_dis,cv=3,\n",
    "                         scoring='roc_auc')\n",
    "scores2 = cross_val_score(gscv.best_estimator_,test_x_dis,test_y_dis,cv=3,\n",
    "                         scoring='roc_auc')"
   ]
  },
  {
   "cell_type": "code",
   "execution_count": null,
   "metadata": {},
   "outputs": [],
   "source": [
    "params = {'C':[0.01,0.05,0.1,0.2,0.5,0.75,1],\n",
    "         'max_iter':[100,200,300,400],\n",
    "         'multi_class':['auto','multinomial'],\n",
    "         'penalty':['l1','l2']}\n",
    "gscv = GridSearchCV(LogisticRegression(),params,cv=3,\n",
    "                    scoring='roc_auc')\n",
    "gscv.fit(train_x_dis,train_y_dis)\n",
    "scores1 = cross_val_score(gscv.best_estimator_,train_x_dis,train_y_dis,cv=3,\n",
    "                         scoring='roc_auc')\n",
    "scores2 = cross_val_score(gscv.best_estimator_,test_x_dis,test_y_dis,cv=3,\n",
    "                         scoring='roc_auc')"
   ]
  },
  {
   "cell_type": "code",
   "execution_count": null,
   "metadata": {},
   "outputs": [],
   "source": [
    "params = {'C':[0.01,0.05,0.1,0.2,0.5,0.75,1],\n",
    "         'kernel':['linear','sigmoid','rbf']\n",
    "         }\n",
    "gscv = GridSearchCV(SVC(),params,cv=3,\n",
    "                    scoring='roc_auc')\n",
    "gscv.fit(train_x_dis,train_y_dis)\n",
    "scores1 = cross_val_score(gscv.best_estimator_,train_x_dis,train_y_dis,cv=3,\n",
    "                         scoring='roc_auc')\n",
    "scores2 = cross_val_score(gscv.best_estimator_,test_x_dis,test_y_dis,cv=3,\n",
    "                         scoring='roc_auc')"
   ]
  },
  {
   "cell_type": "code",
   "execution_count": null,
   "metadata": {},
   "outputs": [],
   "source": [
    "params = {'hidden_layer_sizes':[50,100,200,500,1000,1500,2000,2500,3000],\n",
    "         'activation':['logistic','identity','relu'],\n",
    "          'solver':['lbfgs','sgd']\n",
    "         }\n",
    "gscv = GridSearchCV(MLPClassifier(),params,cv=3,\n",
    "                    scoring='roc_auc')\n",
    "gscv.fit(train_x_dis,train_y_dis)\n",
    "scores1 = cross_val_score(gscv.best_estimator_,train_x_dis,train_y_dis,cv=3,\n",
    "                         scoring='roc_auc')\n",
    "scores2 = cross_val_score(gscv.best_estimator_,test_x_dis,test_y_dis,cv=3,\n",
    "                         scoring='roc_auc')"
   ]
  }
 ],
 "metadata": {
  "kernelspec": {
   "display_name": "eods-s20",
   "language": "python",
   "name": "eods-s20"
  },
  "language_info": {
   "codemirror_mode": {
    "name": "ipython",
    "version": 3
   },
   "file_extension": ".py",
   "mimetype": "text/x-python",
   "name": "python",
   "nbconvert_exporter": "python",
   "pygments_lexer": "ipython3",
   "version": "3.7.6"
  }
 },
 "nbformat": 4,
 "nbformat_minor": 2
}
